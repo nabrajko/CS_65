{
  "nbformat": 4,
  "nbformat_minor": 0,
  "metadata": {
    "colab": {
      "name": "CS05_1.ipynb",
      "provenance": [],
      "collapsed_sections": [],
      "authorship_tag": "ABX9TyP5N6TSBZS0RNSlN29mqytA",
      "include_colab_link": true
    },
    "kernelspec": {
      "name": "python3",
      "display_name": "Python 3"
    }
  },
  "cells": [
    {
      "cell_type": "markdown",
      "metadata": {
        "id": "view-in-github",
        "colab_type": "text"
      },
      "source": [
        "<a href=\"https://colab.research.google.com/github/nabrajko/CS_65/blob/master/CS05_1.ipynb\" target=\"_parent\"><img src=\"https://colab.research.google.com/assets/colab-badge.svg\" alt=\"Open In Colab\"/></a>"
      ]
    },
    {
      "cell_type": "code",
      "metadata": {
        "id": "_7oINfXsEqF0",
        "colab_type": "code",
        "colab": {
          "base_uri": "https://localhost:8080/",
          "height": 85
        },
        "outputId": "4f4969b0-8870-43d3-b95d-4065c4b9a329"
      },
      "source": [
        "#Please comment your name here\n",
        "\n",
        "#Part A: Write a program that declares one or more variables, manipulates that variable somehow, and prints out a result. This is intended to be\n",
        "#simple, so a primitive calculation works well (+, -, *, /).\n",
        "\n",
        "print('Part A:')\n",
        "myVar1 = \"hello class cs05!\"\n",
        "print(myVar1.upper())\n",
        "\n",
        "myvar2=100\n",
        "print(myvar2)\n",
        "myvar2=100 + 1000\n",
        "print(myvar2)\n"
      ],
      "execution_count": 4,
      "outputs": [
        {
          "output_type": "stream",
          "text": [
            "Part A:\n",
            "HELLO CLASS CS05!\n",
            "100\n",
            "1100\n"
          ],
          "name": "stdout"
        }
      ]
    },
    {
      "cell_type": "code",
      "metadata": {
        "id": "xiu94Oy-JJyj",
        "colab_type": "code",
        "colab": {
          "base_uri": "https://localhost:8080/",
          "height": 221
        },
        "outputId": "9f6b017e-327d-4f77-f6ab-8163c40be2a7"
      },
      "source": [
        "print('Part B:')\n",
        "\n",
        "#Put your code here\n",
        "\n",
        "#Extra Challenge: Use the code below as a starting point, and build a program where we print out the total price of three items.\n",
        "#Feel free to play around and make the menu more complicated, maybe get more items in one order.\n",
        "# We'll go over how to get input from a user next week!\n",
        "\n",
        "burger_cost = 5.95\n",
        "shake_cost = 3.95\n",
        "fries_cost = 1.25\n",
        "\n",
        "print(\"Welcome to Inside Out Burger\")\n",
        "print(\"You can order 3 things and I'll tell you your total\")\n",
        "print(\"\")\n",
        "print(\"Menu:\")\n",
        "print(\"Burger: 5.95\")\n",
        "print(\"Shake:  3.95\")\n",
        "print(\"Fries:  1.25\")\n",
        "\n",
        "salad = 4.95 # salad\n",
        "medium_cofee = 1.95 # medium cofee\n",
        "ice_cream = 2.95 # ice cream\n",
        "\n",
        "#this will be your running total of the order\n",
        "total = 0.0\n",
        "\n",
        "#your code here\n",
        "order1= burger_cost + salad\n",
        "print(\"Customer1 order : burger and salad \" )\n",
        "print(order1)\n",
        "\n",
        "order2=shake_cost+medium_cofee+ice_cream\n",
        "print(\"Customer2 order : shake , cofee and ice cream \" )\n",
        "print(round(order2,2))"
      ],
      "execution_count": 13,
      "outputs": [
        {
          "output_type": "stream",
          "text": [
            "Part B:\n",
            "Welcome to Inside Out Burger\n",
            "You can order 3 things and I'll tell you your total\n",
            "\n",
            "Menu:\n",
            "Burger: 5.95\n",
            "Shake:  3.95\n",
            "Fries:  1.25\n",
            "Customer1 order : burger and salad \n",
            "10.9\n",
            "Customer2 order : shake , cofee and ice cream \n",
            "8.85\n"
          ],
          "name": "stdout"
        }
      ]
    }
  ]
}